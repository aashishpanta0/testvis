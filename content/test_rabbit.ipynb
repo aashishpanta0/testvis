{
  "metadata": {
    "language_info": {
      "codemirror_mode": {
        "name": "python",
        "version": 3
      },
      "file_extension": ".py",
      "mimetype": "text/x-python",
      "name": "python",
      "nbconvert_exporter": "python",
      "pygments_lexer": "ipython3",
      "version": "3.8"
    },
    "kernelspec": {
      "name": "python",
      "display_name": "Python (Pyodide)",
      "language": "python"
    }
  },
  "nbformat_minor": 4,
  "nbformat": 4,
  "cells": [
    {
      "cell_type": "code",
      "source": "import shutil, os, micropip,logging,time\n\n# I have no ide why I have to do this, there is some confusion between bokeh version\nawait micropip.install(\"https://cdn.holoviz.org/panel/0.14.3/dist/wheels/bokeh-2.4.3-py3-none-any.whl\")\nawait micropip.install(\"bokeh==2.4.3\")\nawait micropip.install([\n    \"pyviz_comms\",\n    \"numpy\", \n    \"pandas\", \n    \"requests\", \n    \"xmltodict\",\n    \"xyzservices\", \n    \"pyodide-http\", \n    \"colorcet\",\n    \"https://cdn.holoviz.org/panel/0.14.3/dist/wheels/bokeh-2.4.3-py3-none-any.whl\", \n    \"panel==0.14.2\", \n    \"openvisuspy==0.0.20\",])",
      "metadata": {
        "trusted": true
      },
      "execution_count": 1,
      "outputs": []
    },
    {
      "cell_type": "code",
      "source": "import bokeh\nprint(bokeh.__version__)\nimport panel as pn;print(pn.__version__)\npn.extension('vega')\n\nbutton = bokeh.models.widgets.Button(label=\"Panel is working? Push...\", sizing_mode='stretch_width')\ndef OnClick(evt=None): button.label=\"YES!\"\nbutton.on_click(OnClick)    \npn.pane.Bokeh(button) # NOTE: bokeh will not work (complaining about tornado)",
      "metadata": {
        "trusted": true
      },
      "execution_count": null,
      "outputs": [
        {
          "name": "stdout",
          "text": "2.4.3\n",
          "output_type": "stream"
        }
      ]
    },
    {
      "cell_type": "code",
      "source": "import openvisuspy\nfrom openvisuspy import Slice, Slices, GetBackend, SetupLogger\nlogger=SetupLogger()\nlogger.info(f\"GetBackend={GetBackend()}\")",
      "metadata": {
        "trusted": true
      },
      "execution_count": null,
      "outputs": []
    },
    {
      "cell_type": "code",
      "source": "view=Slice()\nview.setDataset('https://atlantis.sci.utah.edu/mod_visus?dataset=rabbit&cached=1')   \nview.setPalette(\"Greys256\")\nview.setPaletteRange((0,255))\nview.getPanelLayout()",
      "metadata": {
        "trusted": true
      },
      "execution_count": null,
      "outputs": []
    },
    {
      "cell_type": "code",
      "source": "",
      "metadata": {},
      "execution_count": null,
      "outputs": []
    }
  ]
}